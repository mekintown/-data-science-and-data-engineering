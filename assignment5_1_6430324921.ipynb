{
  "nbformat": 4,
  "nbformat_minor": 0,
  "metadata": {
    "colab": {
      "provenance": [],
      "authorship_tag": "ABX9TyPSdRD1nPUnOCG5gS9I4w6E",
      "include_colab_link": true
    },
    "kernelspec": {
      "name": "python3",
      "display_name": "Python 3"
    },
    "language_info": {
      "name": "python"
    }
  },
  "cells": [
    {
      "cell_type": "markdown",
      "metadata": {
        "id": "view-in-github",
        "colab_type": "text"
      },
      "source": [
        "<a href=\"https://colab.research.google.com/github/mekintown/-data-science-and-data-engineering/blob/main/assignment5_1_6430324921.ipynb\" target=\"_parent\"><img src=\"https://colab.research.google.com/assets/colab-badge.svg\" alt=\"Open In Colab\"/></a>"
      ]
    },
    {
      "cell_type": "code",
      "execution_count": null,
      "metadata": {
        "id": "Qaa2pqFA0wgo"
      },
      "outputs": [],
      "source": [
        "#Import the libraries\n",
        "import numpy as np\n",
        "import pandas as pd"
      ]
    },
    {
      "cell_type": "code",
      "source": [
        "# 1\n",
        "df = pd.read_csv('https://raw.githubusercontent.com/pvateekul/2110446_DSDE_2023s2/main/code/Week03_ML/mushroom2020_dataset.csv')"
      ],
      "metadata": {
        "id": "CsuOik8A09AC"
      },
      "execution_count": null,
      "outputs": []
    },
    {
      "cell_type": "code",
      "source": [
        "df.info()"
      ],
      "metadata": {
        "colab": {
          "base_uri": "https://localhost:8080/"
        },
        "id": "YAT_uBB_2XZI",
        "outputId": "47456bb9-2493-4230-b3a7-d144844fd718"
      },
      "execution_count": null,
      "outputs": [
        {
          "output_type": "stream",
          "name": "stdout",
          "text": [
            "<class 'pandas.core.frame.DataFrame'>\n",
            "RangeIndex: 5824 entries, 0 to 5823\n",
            "Data columns (total 24 columns):\n",
            " #   Column                       Non-Null Count  Dtype  \n",
            "---  ------                       --------------  -----  \n",
            " 0   id                           5824 non-null   int64  \n",
            " 1   label                        5764 non-null   object \n",
            " 2   cap-shape                    5824 non-null   object \n",
            " 3   cap-surface                  5797 non-null   object \n",
            " 4   bruises                      5725 non-null   object \n",
            " 5   odor                         5725 non-null   object \n",
            " 6   gill-attachment              5725 non-null   object \n",
            " 7   gill-spacing                 5694 non-null   object \n",
            " 8   gill-size                    5703 non-null   object \n",
            " 9   stalk-shape                  5703 non-null   object \n",
            " 10  stalk-root                   5793 non-null   object \n",
            " 11  stalk-surface-above-ring     5793 non-null   object \n",
            " 12  stalk-surface-below-ring     5793 non-null   object \n",
            " 13  veil-type                    5762 non-null   object \n",
            " 14  ring-number                  5762 non-null   object \n",
            " 15  ring-type                    5762 non-null   object \n",
            " 16  spore-print-color            5768 non-null   object \n",
            " 17  population                   5768 non-null   object \n",
            " 18  habitat                      5793 non-null   object \n",
            " 19  cap-color-rate               5797 non-null   float64\n",
            " 20  gill-color-rate              5703 non-null   float64\n",
            " 21  veil-color-rate              5762 non-null   float64\n",
            " 22  stalk-color-above-ring-rate  5793 non-null   float64\n",
            " 23  stalk-color-below-ring-rate  5762 non-null   float64\n",
            "dtypes: float64(5), int64(1), object(18)\n",
            "memory usage: 1.1+ MB\n"
          ]
        }
      ]
    },
    {
      "cell_type": "code",
      "source": [
        "df['gill-size'].isnull().sum()"
      ],
      "metadata": {
        "colab": {
          "base_uri": "https://localhost:8080/"
        },
        "id": "mrj8FTvz8QHL",
        "outputId": "3809cd8c-3bb8-4bb8-f7a8-7378c73865fc"
      },
      "execution_count": null,
      "outputs": [
        {
          "output_type": "execute_result",
          "data": {
            "text/plain": [
              "121"
            ]
          },
          "metadata": {},
          "execution_count": 100
        }
      ]
    },
    {
      "cell_type": "code",
      "source": [
        "# 2\n",
        "df.dropna(subset=['label'], inplace=True)"
      ],
      "metadata": {
        "id": "N59Q4AkN2w7u"
      },
      "execution_count": null,
      "outputs": []
    },
    {
      "cell_type": "code",
      "source": [
        "# 3\n",
        "columns_to_drop = [\n",
        "    'id', 'gill-attachment', 'gill-spacing', 'gill-size', 'gill-color-rate',\n",
        "    'stalk-root', 'stalk-surface-above-ring', 'stalk-surface-below-ring',\n",
        "    'stalk-color-above-ring-rate', 'stalk-color-below-ring-rate',\n",
        "    'veil-color-rate', 'veil-type'\n",
        "]\n",
        "\n",
        "df.drop(columns=columns_to_drop, inplace=True)"
      ],
      "metadata": {
        "id": "s-ZcsTaE3lid"
      },
      "execution_count": null,
      "outputs": []
    },
    {
      "cell_type": "code",
      "source": [
        "# 4\n",
        "df.shape, df.isnull().sum()"
      ],
      "metadata": {
        "colab": {
          "base_uri": "https://localhost:8080/"
        },
        "id": "kGM-lLfP4KgU",
        "outputId": "73330745-5e65-4412-ef25-cd106efef9f2"
      },
      "execution_count": null,
      "outputs": [
        {
          "output_type": "execute_result",
          "data": {
            "text/plain": [
              "((5764, 12),\n",
              " label                  0\n",
              " cap-shape              0\n",
              " cap-surface           27\n",
              " bruises               99\n",
              " odor                  99\n",
              " stalk-shape          121\n",
              " ring-number           62\n",
              " ring-type             62\n",
              " spore-print-color     56\n",
              " population            56\n",
              " habitat               31\n",
              " cap-color-rate        27\n",
              " dtype: int64)"
            ]
          },
          "metadata": {},
          "execution_count": 103
        }
      ]
    },
    {
      "cell_type": "code",
      "source": [
        "# 5\n",
        "df.fillna(df.mean(), inplace=True)\n",
        "df.fillna(df.mode().iloc[0], inplace=True)\n",
        "\n",
        "df.isnull().sum()"
      ],
      "metadata": {
        "colab": {
          "base_uri": "https://localhost:8080/"
        },
        "id": "voVhG_NEQZrG",
        "outputId": "851cb72a-8bdf-4995-939e-3b830e7432dc"
      },
      "execution_count": null,
      "outputs": [
        {
          "output_type": "stream",
          "name": "stderr",
          "text": [
            "<ipython-input-104-2231b88f7ea3>:2: FutureWarning: The default value of numeric_only in DataFrame.mean is deprecated. In a future version, it will default to False. In addition, specifying 'numeric_only=None' is deprecated. Select only valid columns or specify the value of numeric_only to silence this warning.\n",
            "  df.fillna(df.mean(), inplace=True)\n"
          ]
        },
        {
          "output_type": "execute_result",
          "data": {
            "text/plain": [
              "label                0\n",
              "cap-shape            0\n",
              "cap-surface          0\n",
              "bruises              0\n",
              "odor                 0\n",
              "stalk-shape          0\n",
              "ring-number          0\n",
              "ring-type            0\n",
              "spore-print-color    0\n",
              "population           0\n",
              "habitat              0\n",
              "cap-color-rate       0\n",
              "dtype: int64"
            ]
          },
          "metadata": {},
          "execution_count": 104
        }
      ]
    },
    {
      "cell_type": "code",
      "source": [
        "# 6\n",
        "df['label'] = df['label'].map({'e': 1, 'p': 0})\n",
        "df['label'].value_counts()"
      ],
      "metadata": {
        "colab": {
          "base_uri": "https://localhost:8080/"
        },
        "id": "4xxqxzH-Q7mb",
        "outputId": "c6478623-404e-4ccc-928d-c51f5f5b22b0"
      },
      "execution_count": null,
      "outputs": [
        {
          "output_type": "execute_result",
          "data": {
            "text/plain": [
              "0    3660\n",
              "1    2104\n",
              "Name: label, dtype: int64"
            ]
          },
          "metadata": {},
          "execution_count": 105
        }
      ]
    },
    {
      "cell_type": "code",
      "source": [
        "# 7\n",
        "nominal_columns = df.select_dtypes(include=[\"object\"]).columns\n",
        "dummy_df = pd.get_dummies(df[nominal_columns], drop_first=True)\n",
        "df = pd.concat([df, dummy_df], axis=1)\n",
        "\n",
        "df.drop(nominal_columns, axis=1, inplace=True)\n",
        "df.to_csv('df_dummy.csv')\n",
        "print(df.columns)\n",
        "print(df)\n",
        "print(df.shape)"
      ],
      "metadata": {
        "id": "Y-Kybm0qRnui",
        "colab": {
          "base_uri": "https://localhost:8080/"
        },
        "outputId": "335b8cb6-9510-4f7e-dcc5-84d4404c28b7"
      },
      "execution_count": null,
      "outputs": [
        {
          "output_type": "stream",
          "name": "stdout",
          "text": [
            "Index(['label', 'cap-color-rate', 'cap-shape_c', 'cap-shape_f', 'cap-shape_k',\n",
            "       'cap-shape_x', 'cap-surface_g', 'cap-surface_s', 'cap-surface_y',\n",
            "       'bruises_t', 'odor_c', 'odor_f', 'odor_l', 'odor_m', 'odor_n', 'odor_p',\n",
            "       'odor_s', 'odor_y', 'stalk-shape_t', 'ring-number_o', 'ring-number_t',\n",
            "       'ring-type_f', 'ring-type_l', 'ring-type_n', 'ring-type_p',\n",
            "       'spore-print-color_h', 'spore-print-color_k', 'spore-print-color_n',\n",
            "       'spore-print-color_o', 'spore-print-color_r', 'spore-print-color_w',\n",
            "       'spore-print-color_y', 'population_c', 'population_n', 'population_s',\n",
            "       'population_v', 'population_y', 'habitat_g', 'habitat_l', 'habitat_m',\n",
            "       'habitat_p', 'habitat_u', 'habitat_w'],\n",
            "      dtype='object')\n",
            "      label  cap-color-rate  cap-shape_c  cap-shape_f  cap-shape_k  \\\n",
            "0         0             1.0            0            0            0   \n",
            "1         1             2.0            0            0            0   \n",
            "2         1             3.0            0            0            0   \n",
            "3         0             3.0            0            0            0   \n",
            "4         1             4.0            0            0            0   \n",
            "...     ...             ...          ...          ...          ...   \n",
            "5819      1             1.0            0            0            1   \n",
            "5820      1             1.0            0            0            0   \n",
            "5821      1             1.0            0            1            0   \n",
            "5822      0             1.0            0            0            1   \n",
            "5823      1             1.0            0            0            0   \n",
            "\n",
            "      cap-shape_x  cap-surface_g  cap-surface_s  cap-surface_y  bruises_t  \\\n",
            "0               1              0              1              0          1   \n",
            "1               1              0              1              0          1   \n",
            "2               0              0              1              0          1   \n",
            "3               1              0              0              1          1   \n",
            "4               1              0              1              0          0   \n",
            "...           ...            ...            ...            ...        ...   \n",
            "5819            0              0              1              0          0   \n",
            "5820            1              0              1              0          0   \n",
            "5821            0              0              1              0          0   \n",
            "5822            0              0              0              1          0   \n",
            "5823            1              0              1              0          0   \n",
            "\n",
            "      ...  population_n  population_s  population_v  population_y  habitat_g  \\\n",
            "0     ...             0             1             0             0          0   \n",
            "1     ...             1             0             0             0          1   \n",
            "2     ...             1             0             0             0          0   \n",
            "3     ...             0             1             0             0          0   \n",
            "4     ...             0             0             0             0          1   \n",
            "...   ...           ...           ...           ...           ...        ...   \n",
            "5819  ...             0             0             0             0          0   \n",
            "5820  ...             0             0             1             0          0   \n",
            "5821  ...             0             0             0             0          0   \n",
            "5822  ...             0             0             1             0          0   \n",
            "5823  ...             0             0             0             0          0   \n",
            "\n",
            "      habitat_l  habitat_m  habitat_p  habitat_u  habitat_w  \n",
            "0             0          0          0          1          0  \n",
            "1             0          0          0          0          0  \n",
            "2             0          1          0          0          0  \n",
            "3             0          0          0          1          0  \n",
            "4             0          0          0          0          0  \n",
            "...         ...        ...        ...        ...        ...  \n",
            "5819          1          0          0          0          0  \n",
            "5820          1          0          0          0          0  \n",
            "5821          1          0          0          0          0  \n",
            "5822          1          0          0          0          0  \n",
            "5823          1          0          0          0          0  \n",
            "\n",
            "[5764 rows x 43 columns]\n",
            "(5764, 43)\n"
          ]
        }
      ]
    },
    {
      "cell_type": "code",
      "source": [
        "from sklearn.model_selection import train_test_split\n",
        "y = df.pop('label')\n",
        "X = df\n",
        "\n",
        "X_train, X_test, y_train, y_test = train_test_split(X, y, stratify=y, test_size=0.2, random_state=2020)\n",
        "print(X_train.shape)"
      ],
      "metadata": {
        "id": "O7EFhcFwTRc7",
        "colab": {
          "base_uri": "https://localhost:8080/"
        },
        "outputId": "f04cdbfd-0775-4a20-9a90-e06b37c1aa29"
      },
      "execution_count": null,
      "outputs": [
        {
          "output_type": "stream",
          "name": "stdout",
          "text": [
            "(4611, 42)\n"
          ]
        }
      ]
    },
    {
      "cell_type": "code",
      "source": [
        "from sklearn.ensemble import RandomForestClassifier\n",
        "from sklearn.model_selection import GridSearchCV\n",
        "from sklearn.model_selection import StratifiedKFold\n",
        "\n",
        "param_grid = {\n",
        "    'criterion': ['gini', 'entropy'],\n",
        "    'max_depth': [2, 3, 6],\n",
        "    'min_samples_leaf': [2, 5, 10],\n",
        "    'n_estimators': [100, 200],\n",
        "    'random_state': [2020]\n",
        "}\n",
        "\n",
        "rf_classifier = RandomForestClassifier()\n",
        "grid_search = GridSearchCV(rf_classifier, param_grid=param_grid, cv=StratifiedKFold(n_splits=5))\n",
        "grid_search.fit(X_train, y_train)\n",
        "print(grid_search.best_params_)"
      ],
      "metadata": {
        "id": "1GELcLC1yEYU",
        "colab": {
          "base_uri": "https://localhost:8080/"
        },
        "outputId": "55433959-188e-4fd9-a16f-e1caa0372975"
      },
      "execution_count": null,
      "outputs": [
        {
          "output_type": "stream",
          "name": "stdout",
          "text": [
            "{'criterion': 'gini', 'max_depth': 6, 'min_samples_leaf': 2, 'n_estimators': 100, 'random_state': 2020}\n"
          ]
        }
      ]
    },
    {
      "cell_type": "code",
      "source": [
        "from sklearn.metrics import confusion_matrix, classification_report\n",
        "\n",
        "best_rf = grid_search.best_estimator_\n",
        "\n",
        "y_pred = best_rf.predict(X_test)\n",
        "\n",
        "conf_matrix = confusion_matrix(y_test, y_pred)\n",
        "class_report = classification_report(y_test, y_pred)\n",
        "\n",
        "conf_matrix, class_report"
      ],
      "metadata": {
        "colab": {
          "base_uri": "https://localhost:8080/"
        },
        "id": "gNpvV9Md59h-",
        "outputId": "c1c7d6af-a473-49e8-d7f1-675a6b0b8328"
      },
      "execution_count": null,
      "outputs": [
        {
          "output_type": "execute_result",
          "data": {
            "text/plain": [
              "(array([[731,   1],\n",
              "        [  5, 416]]),\n",
              " '              precision    recall  f1-score   support\\n\\n           0       0.99      1.00      1.00       732\\n           1       1.00      0.99      0.99       421\\n\\n    accuracy                           0.99      1153\\n   macro avg       1.00      0.99      0.99      1153\\nweighted avg       0.99      0.99      0.99      1153\\n')"
            ]
          },
          "metadata": {},
          "execution_count": 109
        }
      ]
    },
    {
      "cell_type": "code",
      "source": [
        "len(X_train), len(X_test)"
      ],
      "metadata": {
        "colab": {
          "base_uri": "https://localhost:8080/"
        },
        "id": "_RMNKs8j7xy8",
        "outputId": "e757a56e-7d10-4ea9-965d-3d8b5ec3ad96"
      },
      "execution_count": null,
      "outputs": [
        {
          "output_type": "execute_result",
          "data": {
            "text/plain": [
              "(4611, 1153)"
            ]
          },
          "metadata": {},
          "execution_count": 110
        }
      ]
    },
    {
      "cell_type": "code",
      "source": [
        "grid_search.best_params_"
      ],
      "metadata": {
        "colab": {
          "base_uri": "https://localhost:8080/"
        },
        "id": "S5X19LQZ63C2",
        "outputId": "b7c87ab7-1c1d-4998-e753-4a2f5eb7788b"
      },
      "execution_count": null,
      "outputs": [
        {
          "output_type": "execute_result",
          "data": {
            "text/plain": [
              "{'criterion': 'gini',\n",
              " 'max_depth': 6,\n",
              " 'min_samples_leaf': 2,\n",
              " 'n_estimators': 100,\n",
              " 'random_state': 2020}"
            ]
          },
          "metadata": {},
          "execution_count": 111
        }
      ]
    },
    {
      "cell_type": "code",
      "source": [
        "print(class_report)"
      ],
      "metadata": {
        "colab": {
          "base_uri": "https://localhost:8080/"
        },
        "id": "dCNOtajt7arQ",
        "outputId": "e0b80f93-f24d-4683-b91b-9ec795a6f6b7"
      },
      "execution_count": null,
      "outputs": [
        {
          "output_type": "stream",
          "name": "stdout",
          "text": [
            "              precision    recall  f1-score   support\n",
            "\n",
            "           0       0.99      1.00      1.00       732\n",
            "           1       1.00      0.99      0.99       421\n",
            "\n",
            "    accuracy                           0.99      1153\n",
            "   macro avg       1.00      0.99      0.99      1153\n",
            "weighted avg       0.99      0.99      0.99      1153\n",
            "\n"
          ]
        }
      ]
    },
    {
      "cell_type": "code",
      "source": [
        "# -----------------------------------------\n",
        "df1 = pd.read_csv('df_dummy.csv')\n",
        "df2 = pd.read_csv('dummy_df.csv')"
      ],
      "metadata": {
        "id": "TmaMJcbHfZde"
      },
      "execution_count": null,
      "outputs": []
    },
    {
      "cell_type": "code",
      "source": [
        "df1_cols = df1.columns\n",
        "df2_cols = df2.columns"
      ],
      "metadata": {
        "id": "e0Gqbf1vfnUb"
      },
      "execution_count": null,
      "outputs": []
    },
    {
      "cell_type": "code",
      "source": [
        "df1_cols"
      ],
      "metadata": {
        "colab": {
          "base_uri": "https://localhost:8080/"
        },
        "id": "M8d6TPAzftob",
        "outputId": "86bd5385-859f-4bf8-ecdb-434a7dc07df3"
      },
      "execution_count": null,
      "outputs": [
        {
          "output_type": "execute_result",
          "data": {
            "text/plain": [
              "Index(['Unnamed: 0', 'label', 'cap-color-rate', 'cap-shape_c', 'cap-shape_f',\n",
              "       'cap-shape_k', 'cap-shape_x', 'cap-surface_g', 'cap-surface_s',\n",
              "       'cap-surface_y', 'bruises_t', 'odor_c', 'odor_f', 'odor_l', 'odor_m',\n",
              "       'odor_n', 'odor_p', 'odor_s', 'odor_y', 'stalk-shape_t',\n",
              "       'ring-number_o', 'ring-number_t', 'ring-type_f', 'ring-type_l',\n",
              "       'ring-type_n', 'ring-type_p', 'spore-print-color_h',\n",
              "       'spore-print-color_k', 'spore-print-color_n', 'spore-print-color_o',\n",
              "       'spore-print-color_r', 'spore-print-color_w', 'spore-print-color_y',\n",
              "       'population_c', 'population_n', 'population_s', 'population_v',\n",
              "       'population_y', 'habitat_g', 'habitat_l', 'habitat_m', 'habitat_p',\n",
              "       'habitat_u', 'habitat_w'],\n",
              "      dtype='object')"
            ]
          },
          "metadata": {},
          "execution_count": 115
        }
      ]
    },
    {
      "cell_type": "code",
      "source": [
        "df2_cols"
      ],
      "metadata": {
        "colab": {
          "base_uri": "https://localhost:8080/"
        },
        "id": "ptdxh3Gkfv29",
        "outputId": "adf5e6a4-2d85-4a0d-8b1b-cae65e9dba32"
      },
      "execution_count": null,
      "outputs": [
        {
          "output_type": "execute_result",
          "data": {
            "text/plain": [
              "Index(['Unnamed: 0', 'cap-shape_c', 'cap-shape_f', 'cap-shape_k',\n",
              "       'cap-shape_x', 'cap-surface_g', 'cap-surface_s', 'cap-surface_y',\n",
              "       'bruises_t', 'odor_c', 'odor_f', 'odor_l', 'odor_m', 'odor_n', 'odor_p',\n",
              "       'odor_s', 'odor_y', 'stalk-shape_t', 'ring-number_o', 'ring-number_t',\n",
              "       'ring-type_f', 'ring-type_l', 'ring-type_n', 'ring-type_p',\n",
              "       'spore-print-color_h', 'spore-print-color_k', 'spore-print-color_n',\n",
              "       'spore-print-color_o', 'spore-print-color_r', 'spore-print-color_w',\n",
              "       'spore-print-color_y', 'population_c', 'population_n', 'population_s',\n",
              "       'population_v', 'population_y', 'habitat_g', 'habitat_l', 'habitat_m',\n",
              "       'habitat_p', 'habitat_u', 'habitat_w', 'label', 'cap-color-rate'],\n",
              "      dtype='object')"
            ]
          },
          "metadata": {},
          "execution_count": 116
        }
      ]
    },
    {
      "cell_type": "code",
      "source": [
        "df1 = df1.reindex(columns=df1_cols)\n",
        "df2 = df2.reindex(columns=df1_cols)"
      ],
      "metadata": {
        "id": "cMwPoN_wfxvm"
      },
      "execution_count": null,
      "outputs": []
    },
    {
      "cell_type": "code",
      "source": [
        "df1.columns"
      ],
      "metadata": {
        "colab": {
          "base_uri": "https://localhost:8080/"
        },
        "id": "Lj5kJJiugU2a",
        "outputId": "05f65036-510d-46d5-c131-89aab75d8cf9"
      },
      "execution_count": null,
      "outputs": [
        {
          "output_type": "execute_result",
          "data": {
            "text/plain": [
              "Index(['Unnamed: 0', 'label', 'cap-color-rate', 'cap-shape_c', 'cap-shape_f',\n",
              "       'cap-shape_k', 'cap-shape_x', 'cap-surface_g', 'cap-surface_s',\n",
              "       'cap-surface_y', 'bruises_t', 'odor_c', 'odor_f', 'odor_l', 'odor_m',\n",
              "       'odor_n', 'odor_p', 'odor_s', 'odor_y', 'stalk-shape_t',\n",
              "       'ring-number_o', 'ring-number_t', 'ring-type_f', 'ring-type_l',\n",
              "       'ring-type_n', 'ring-type_p', 'spore-print-color_h',\n",
              "       'spore-print-color_k', 'spore-print-color_n', 'spore-print-color_o',\n",
              "       'spore-print-color_r', 'spore-print-color_w', 'spore-print-color_y',\n",
              "       'population_c', 'population_n', 'population_s', 'population_v',\n",
              "       'population_y', 'habitat_g', 'habitat_l', 'habitat_m', 'habitat_p',\n",
              "       'habitat_u', 'habitat_w'],\n",
              "      dtype='object')"
            ]
          },
          "metadata": {},
          "execution_count": 118
        }
      ]
    },
    {
      "cell_type": "code",
      "source": [
        "df2.columns"
      ],
      "metadata": {
        "colab": {
          "base_uri": "https://localhost:8080/"
        },
        "id": "d0SQZUv_gX7K",
        "outputId": "123938f8-4b6c-4af2-a73c-06ddbd06a7f2"
      },
      "execution_count": null,
      "outputs": [
        {
          "output_type": "execute_result",
          "data": {
            "text/plain": [
              "Index(['Unnamed: 0', 'label', 'cap-color-rate', 'cap-shape_c', 'cap-shape_f',\n",
              "       'cap-shape_k', 'cap-shape_x', 'cap-surface_g', 'cap-surface_s',\n",
              "       'cap-surface_y', 'bruises_t', 'odor_c', 'odor_f', 'odor_l', 'odor_m',\n",
              "       'odor_n', 'odor_p', 'odor_s', 'odor_y', 'stalk-shape_t',\n",
              "       'ring-number_o', 'ring-number_t', 'ring-type_f', 'ring-type_l',\n",
              "       'ring-type_n', 'ring-type_p', 'spore-print-color_h',\n",
              "       'spore-print-color_k', 'spore-print-color_n', 'spore-print-color_o',\n",
              "       'spore-print-color_r', 'spore-print-color_w', 'spore-print-color_y',\n",
              "       'population_c', 'population_n', 'population_s', 'population_v',\n",
              "       'population_y', 'habitat_g', 'habitat_l', 'habitat_m', 'habitat_p',\n",
              "       'habitat_u', 'habitat_w'],\n",
              "      dtype='object')"
            ]
          },
          "metadata": {},
          "execution_count": 119
        }
      ]
    },
    {
      "cell_type": "code",
      "source": [
        "print(df1.equals(df2))"
      ],
      "metadata": {
        "colab": {
          "base_uri": "https://localhost:8080/"
        },
        "id": "d2VsCmongaW6",
        "outputId": "dec461a2-6a3c-4796-87f7-b195c0de9cab"
      },
      "execution_count": null,
      "outputs": [
        {
          "output_type": "stream",
          "name": "stdout",
          "text": [
            "True\n"
          ]
        }
      ]
    },
    {
      "cell_type": "code",
      "source": [],
      "metadata": {
        "id": "vslBTLvhgox-"
      },
      "execution_count": null,
      "outputs": []
    }
  ]
}